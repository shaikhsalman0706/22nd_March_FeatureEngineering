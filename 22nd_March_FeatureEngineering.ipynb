{
 "cells": [
  {
   "cell_type": "markdown",
   "id": "51ca8888",
   "metadata": {},
   "source": [
    "### Q1. Pearson correlation coefficient is a measure of the linear relationship between two variables. Suppose you have collected data on the amount of time students spend studying for an exam and their final exam scores. Calculate the Pearson correlation coefficient between these two variables and interpret the result."
   ]
  },
  {
   "cell_type": "markdown",
   "id": "e4cd31f9",
   "metadata": {},
   "source": [
    "#### To calculate the Pearson correlation coefficient, also denoted as \"r\", between the amount of time students spend studying for an exam and their final exam scores, you would need to have paired data, where you have both the study time and exam scores for each student. Once you have this data, you can follow these steps to calculate the Pearson correlation coefficient:\n",
    "\n",
    "###### Step 1: Organize the data\n",
    "#### Organize the data into two columns, one for the amount of time students spend studying (let's call it \"X\") and the corresponding final exam scores (let's call it \"Y\").\n",
    "\n",
    "###### Step 2: Calculate the means\n",
    "#### Calculate the mean (average) of both X and Y. Let's denote the mean of X as \"X̄\" and the mean of Y as \"Ȳ\".\n",
    "\n",
    "###### Step 3: Calculate the differences\n",
    "#### For each pair of X and Y, subtract the mean of X (X̄) from X, and subtract the mean of Y (Ȳ) from Y. These differences are denoted as (X - X̄) and (Y - Ȳ) respectively.\n",
    "\n",
    "###### Step 4: Calculate the product of differences\n",
    "#### Multiply the differences obtained in Step 3, (X - X̄) and (Y - Ȳ), for each pair of X and Y. These products are denoted as (X - X̄)(Y - Ȳ).\n",
    "\n",
    "###### Step 5: Calculate the sum of product of differences\n",
    "#### Sum up all the products obtained in Step 4, (X - X̄)(Y - Ȳ), for all the pairs of X and Y.\n",
    "\n",
    "###### Step 6: Calculate the squared differences\n",
    "#### Calculate the squared difference for each pair of X and Y, (X - X̄)^2 and (Y - Ȳ)^2.\n",
    "\n",
    "###### Step 7: Calculate the sum of squared differences\n",
    "#### Sum up all the squared differences obtained in Step 6, (X - X̄)^2 and (Y - Ȳ)^2, for all the pairs of X and Y.\n",
    "\n",
    "###### Step 8: Calculate Pearson correlation coefficient\n",
    "#### Finally, use the formulas for Pearson correlation coefficient:\n",
    "###### r = Σ((X - X̄)(Y - Ȳ)) / √(Σ(X - X̄)^2 * Σ(Y - Ȳ)^2)\n",
    "\n",
    "#### where Σ denotes the sum of, and √ denotes the square root of.\n",
    "\n",
    "###### Step 9: Interpret the result\n",
    "#### The Pearson correlation coefficient, r, ranges from -1 to 1. A positive value of r indicates a positive linear relationship between the two variables, where an increase in one variable (e.g., study time) is associated with an increase in the other variable (e.g., exam scores). A negative value of r indicates a negative linear relationship, where an increase in one variable is associated with a decrease in the other variable. A value of r close to 0 indicates no linear relationship between the two variables.\n",
    "\n",
    "#### The magnitude of r indicates the strength of the linear relationship, with 0 indicating no relationship, and 1 or -1 indicating a perfect positive or negative linear relationship, respectively. The closer r is to 1 or -1, the stronger the linear relationship. The closer r is to 0, the weaker the linear relationship.\n",
    "\n",
    "#### Additionally, the direction of the correlation (positive or negative) can provide insights into the relationship between the variables. For example, a positive correlation between study time and exam scores would suggest that as students spend more time studying, their exam scores tend to be higher. On the other hand, a negative correlation between study time and exam scores would suggest that as students spend more time studying, their exam scores tend to be lower."
   ]
  },
  {
   "cell_type": "markdown",
   "id": "1c9c92f1",
   "metadata": {},
   "source": [
    "### Q2. Spearman's rank correlation is a measure of the monotonic relationship between two variables. Suppose you have collected data on the amount of sleep individuals get each night and their overall job satisfaction level on a scale of 1 to 10. Calculate the Spearman's rank correlation between these two variables and interpret the result."
   ]
  },
  {
   "cell_type": "markdown",
   "id": "93f230b6",
   "metadata": {},
   "source": [
    "#### To calculate Spearman's rank correlation coefficient, denoted as \"ρ\", between the amount of sleep individuals get each night and their overall job satisfaction level on a scale of 1 to 10, you would need to have paired data, where you have both the amount of sleep and job satisfaction scores for each individual. Once you have this data, you can follow these steps to calculate the Spearman's rank correlation coefficient:\n",
    "\n",
    "###### Step 1: Organize the data\n",
    "#### Organize the data into two columns, one for the amount of sleep (let's call it \"X\") and the corresponding job satisfaction scores (let's call it \"Y\").\n",
    "\n",
    "###### Step 2: Rank the data\n",
    "#### Rank the values of X and Y separately, from lowest to highest. If there are ties (i.e., repeated values), assign the average rank to those tied values. Let's denote the ranks of X as \"Rx\" and the ranks of Y as \"Ry\".\n",
    "\n",
    "###### Step 3: Calculate the differences in ranks\n",
    "#### Calculate the differences between the ranks of X and Y for each pair of X and Y. These differences are denoted as \"d\", where d = Rx - Ry.\n",
    "\n",
    "###### Step 4: Calculate the squared differences in ranks\n",
    "#### Calculate the squared differences of the ranks' differences obtained in Step 3, d^2, for each pair of X and Y.\n",
    "\n",
    "###### Step 5: Calculate Spearman's rank correlation coefficient\n",
    "#### Finally, use the formula for Spearman's rank correlation coefficient:\n",
    "###### ρ = 1 - (6 * Σ(d^2)) / (n * (n^2 - 1))\n",
    "\n",
    "#### where Σ denotes the sum of, n is the number of pairs of X and Y, and d^2 is the squared differences of the ranks' differences obtained in Step 4.\n",
    "\n",
    "###### Step 6: Interpret the result\n",
    "#### Spearman's rank correlation coefficient, ρ, ranges from -1 to 1. A positive value of ρ indicates a monotonic (either increasing or decreasing) relationship between the two variables, where higher values of one variable tend to be associated with higher values of the other variable, and vice versa. A negative value of ρ indicates an inverse monotonic relationship, where higher values of one variable tend to be associated with lower values of the other variable, and vice versa.\n",
    "\n",
    "##### The magnitude of ρ indicates the strength of the monotonic relationship, with 0 indicating no monotonic relationship, and 1 or -1 indicating a perfect monotonic positive or negative relationship, respectively. The closer ρ is to 1 or -1, the stronger the monotonic relationship. The closer ρ is to 0, the weaker the monotonic relationship.\n",
    "\n",
    "##### It's important to note that Spearman's rank correlation coefficient measures the strength and direction of monotonic relationship, which means it captures relationships that may not be strictly linear, but can still be increasing or decreasing. It's particularly useful when the relationship between variables is not linear, but may still exhibit a consistent trend. Additionally, unlike Pearson correlation coefficient, Spearman's rank correlation coefficient does not assume that the relationship between the variables is linear, making it appropriate for analyzing data with ordinal or non-parametric variables."
   ]
  },
  {
   "cell_type": "markdown",
   "id": "7624ddaf",
   "metadata": {},
   "source": [
    "### Q3. Suppose you are conducting a study to examine the relationship between the number of hours of exercise per week and body mass index (BMI) in a sample of adults. You collected data on both variables for 50 participants. Calculate the Pearson correlation coefficient and the Spearman's rank correlation between these two variables and compare the results."
   ]
  },
  {
   "cell_type": "markdown",
   "id": "85b8285f",
   "metadata": {},
   "source": [
    "#### To calculate the Pearson correlation coefficient and Spearman's rank correlation coefficient between the number of hours of exercise per week and body mass index (BMI) in a sample of 50 participants, you would need to have paired data, where you have both the number of hours of exercise and BMI values for each participant. Once you have this data, you can use statistical software or a calculator to perform the calculations. Here's how you can interpret the results:\n",
    "\n",
    "###### 1. Pearson correlation coefficient (r):\n",
    "#### The Pearson correlation coefficient measures the strength and direction of the linear relationship between the two variables. It can range from -1 to 1, with 0 indicating no linear relationship, -1 indicating a perfect negative linear relationship, and 1 indicating a perfect positive linear relationship.\n",
    "###### Interpretation:\n",
    "\n",
    "#### If r is close to 0: It indicates little to no linear relationship between the number of hours of exercise and BMI.\n",
    "#### If r is close to 1 or -1: It indicates a strong positive or negative linear relationship between the number of hours of exercise and BMI, respectively.\n",
    "#### If r is positive: It indicates that as the number of hours of exercise per week increases, BMI tends to increase (positive linear relationship).\n",
    "#### If r is negative: It indicates that as the number of hours of exercise per week increases, BMI tends to decrease (negative linear relationship).\n",
    "###### 2. Spearman's rank correlation coefficient (ρ):\n",
    "#### The Spearman's rank correlation coefficient measures the strength and direction of the monotonic relationship between the two variables. It can also range from -1 to 1, with 0 indicating no monotonic relationship, -1 indicating a perfect negative monotonic relationship, and 1 indicating a perfect positive monotonic relationship.\n",
    "###### Interpretation:\n",
    "\n",
    "#### If ρ is close to 0: It indicates little to no monotonic relationship between the number of hours of exercise and BMI.\n",
    "#### If ρ is close to 1 or -1: It indicates a strong positive or negative monotonic relationship between the number of hours of exercise and BMI, respectively.\n",
    "#### If ρ is positive: It indicates that as the number of hours of exercise per week increases, BMI tends to increase (monotonic positive relationship).\n",
    "#### If ρ is negative: It indicates that as the number of hours of exercise per week increases, BMI tends to decrease (monotonic negative relationship).\n",
    "###### Comparison:\n",
    "#### In general, the Pearson correlation coefficient (r) measures the strength and direction of linear relationship, while Spearman's rank correlation coefficient (ρ) measures the strength and direction of monotonic relationship. If the relationship between the number of hours of exercise and BMI is linear, then r and ρ should be similar in magnitude and direction. However, if the relationship is not strictly linear and has a monotonic pattern, then ρ may be more appropriate to use as it captures monotonic relationships that may not be captured by r. If there are outliers or the relationship between the variables is not linear, Spearman's rank correlation coefficient (ρ) may be more robust. It's important to consider the nature of the data and the relationship between the variables when interpreting the results of correlation coefficients."
   ]
  },
  {
   "cell_type": "markdown",
   "id": "469a9f08",
   "metadata": {},
   "source": [
    "### Q4. A researcher is interested in examining the relationship between the number of hours individuals spend watching television per day and their level of physical activity. The researcher collected data on both variables from a sample of 50 participants. Calculate the Pearson correlation coefficient between these two variables."
   ]
  },
  {
   "cell_type": "markdown",
   "id": "fe692920",
   "metadata": {},
   "source": [
    "#### To calculate the Pearson correlation coefficient between the number of hours individuals spend watching television per day and their level of physical activity, you would need to have paired data, where you have both the number of hours of television watching and level of physical activity values for each participant. Once you have this data, you can use statistical software or a calculator to perform the calculation. Here's the general formula for calculating the Pearson correlation coefficient (r):\n",
    "\n",
    "###### r = Σ[(Xᵢ - X̄)(Yᵢ - Ȳ)] / √[Σ(Xᵢ - X̄)² * Σ(Yᵢ - Ȳ)²]\n",
    "\n",
    "#### where:\n",
    "\n",
    "#### Xᵢ and Yᵢ are the values of the number of hours of television watching and level of physical activity, respectively, for each participant in the sample.\n",
    "#### X̄ and Ȳ are the means of the number of hours of television watching and level of physical activity, respectively, in the sample.\n",
    "#### Σ represents the sum of the values for all participants.\n",
    "#### Once you calculate the Pearson correlation coefficient (r), it will be a value ranging from -1 to 1, with 0 indicating no linear relationship, -1 indicating a perfect negative linear relationship, and 1 indicating a perfect positive linear relationship. A positive value of r indicates a positive linear relationship, where as the number of hours of television watching per day increases, level of physical activity tends to increase, and vice versa. A negative value of r indicates a negative linear relationship, where as the number of hours of television watching per day increases, level of physical activity tends to decrease, and vice versa. The magnitude of r indicates the strength of the linear relationship, with larger absolute values indicating stronger linear relationships."
   ]
  },
  {
   "attachments": {
    "Screenshot%202023-04-25%20121310.jpg": {
     "image/jpeg": "[encoded data removed]"
    }
   },
   "cell_type": "markdown",
   "id": "1e0d553c",
   "metadata": {},
   "source": [
    "### Q5. A survey was conducted to examine the relationship between age and preference for a particular brand of soft drink. The survey results are shown below:\n",
    "![Screenshot%202023-04-25%20121310.jpg](attachment:Screenshot%202023-04-25%20121310.jpg)"
   ]
  },
  {
   "cell_type": "markdown",
   "id": "62c68e0d",
   "metadata": {},
   "source": [
    "#### To examine the relationship between age and preference for a particular brand of soft drink, you can use descriptive statistics to summarize the data and calculate frequencies, percentages, and measures of central tendency for each variable.\n",
    "\n",
    "#### For the \"Age (Years)\" variable, you can calculate the mean, median, and mode to describe the central tendency of the ages in the survey. You can also calculate the range, standard deviation, and variance to describe the dispersion or variability of the ages.\n",
    "\n",
    "#### For the \"Soft drink Preference\" variable, you can calculate the frequency and percentage of each brand of soft drink preference (e.g., Coke, Pepsi, Mountain Dew) to describe the distribution of preferences among the survey respondents.\n",
    "\n",
    "#### Additionally, you can create a contingency table or a cross-tabulation to examine the relationship between age and soft drink preference. This can provide insights into any patterns or trends that may exist between these two variables.\n",
    "\n",
    "#### It's important to note that with the given data provided (i.e., only six data points), it may not be possible to make robust conclusions about the relationship between age and soft drink preference. A larger sample size would provide more reliable results. However, with the available data, you can still perform basic descriptive statistics to summarize and interpret the findings."
   ]
  },
  {
   "cell_type": "markdown",
   "id": "c2fed71c",
   "metadata": {},
   "source": [
    "### Q6. A company is interested in examining the relationship between the number of sales calls made per day and the number of sales made per week. The company collected data on both variables from a sample of 30 sales representatives. Calculate the Pearson correlation coefficient between these two variables."
   ]
  },
  {
   "cell_type": "markdown",
   "id": "646db670",
   "metadata": {},
   "source": [
    "#### Let's assume we have the following data for 30 sales representatives:\n",
    "\n",
    "#### Number of sales calls made per day (X): [25, 30, 22, 35, 28, 40, 32, 26, 20, 18, 30, 35, 42, 38, 29, 26, 31, 36, 28, 33, 20, 25, 30, 28, 22, 32, 26, 24, 23]\n",
    "#### Number of sales made per week (Y): [5, 7, 4, 9, 6, 10, 8, 6, 3, 2, 7, 9, 11, 10, 7, 6, 8, 10, 6, 8, 3, 5, 7, 6, 4, 8, 6, 5, 4]\n",
    "\n",
    "#### Now, we can calculate the Pearson correlation coefficient (r) using the formula mentioned earlier:\n",
    "\n",
    "###### Step 1: Calculate the means of X and Y\n",
    "#### X̄ = Mean of X = (ΣX) / n, where n is the number of data points in X\n",
    "#### Ȳ = Mean of Y = (ΣY) / n, where n is the number of data points in Y\n",
    "\n",
    "###### Step 2: Calculate the differences from the mean for X and Y\n",
    "#### (Xᵢ - X̄) and (Yᵢ - Ȳ) for each data point in X and Y\n",
    "\n",
    "###### Step 3: Calculate the products of differences\n",
    "#### [(Xᵢ - X̄)(Yᵢ - Ȳ)] for each data point in X and Y\n",
    "\n",
    "###### Step 4: Sum up the products of differences\n",
    "#### Σ[(Xᵢ - X̄)(Yᵢ - Ȳ)]\n",
    "\n",
    "###### Step 5: Calculate the squared differences for X and Y\n",
    "#### (Xᵢ - X̄)² and (Yᵢ - Ȳ)² for each data point in X and Y\n",
    "\n",
    "###### Step 6: Sum up the squared differences for X and Y\n",
    "#### Σ(Xᵢ - X̄)² and Σ(Yᵢ - Ȳ)²\n",
    "\n",
    "###### Step 7: Calculate the Pearson correlation coefficient (r)\n",
    "#### r = Σ[(Xᵢ - X̄)(Yᵢ - Ȳ)] / √[Σ(Xᵢ - X̄)² * Σ(Yᵢ - Ȳ)²]\n",
    "\n",
    "#### Plugging in the values from the data given above into the formula, you can perform the calculations and obtain the Pearson correlation coefficient (r). A positive r value indicates a positive linear relationship, a negative r value indicates a negative linear relationship, and a value close to 0 indicates no linear relationship between the two variables."
   ]
  },
  {
   "cell_type": "code",
   "execution_count": null,
   "id": "385bf1ac",
   "metadata": {},
   "outputs": [],
   "source": []
  }
 ],
 "metadata": {
  "kernelspec": {
   "display_name": "Python 3 (ipykernel)",
   "language": "python",
   "name": "python3"
  },
  "language_info": {
   "codemirror_mode": {
    "name": "ipython",
    "version": 3
   },
   "file_extension": ".py",
   "mimetype": "text/x-python",
   "name": "python",
   "nbconvert_exporter": "python",
   "pygments_lexer": "ipython3",
   "version": "3.9.13"
  }
 },
 "nbformat": 4,
 "nbformat_minor": 5
}
